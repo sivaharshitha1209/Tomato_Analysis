{
 "cells": [
  {
   "cell_type": "markdown",
   "id": "c14f3e56",
   "metadata": {},
   "source": [
    "# Tomato Quality Classifier using SVM"
   ]
  },
  {
   "cell_type": "markdown",
   "id": "4a8ca7b5",
   "metadata": {},
   "source": [
    "### 1.Import Required Libraries"
   ]
  },
  {
   "cell_type": "code",
   "execution_count": 17,
   "id": "4d621b5f",
   "metadata": {},
   "outputs": [],
   "source": [
    "import os\n",
    "import numpy as np\n",
    "import matplotlib.pyplot as plt\n",
    "import seaborn as sns\n",
    "from sklearn.model_selection import train_test_split\n",
    "from sklearn.preprocessing import LabelEncoder, StandardScaler\n",
    "from sklearn.svm import SVC\n",
    "from sklearn.metrics import classification_report, accuracy_score, confusion_matrix\n",
    "from tensorflow.keras.preprocessing.image import load_img, img_to_array"
   ]
  },
  {
   "cell_type": "markdown",
   "id": "aadd600f",
   "metadata": {},
   "source": [
    "### 2.Set Configuration"
   ]
  },
  {
   "cell_type": "code",
   "execution_count": 18,
   "id": "2f4b83c1",
   "metadata": {},
   "outputs": [],
   "source": [
    "IMG_SIZE = 128\n",
    "DATASET_PATH = \"tomato_dataset\"  # Or '.' if folders are in root\n",
    "CLASSES = ['good_quality', 'bad_quality']"
   ]
  },
  {
   "cell_type": "markdown",
   "id": "848bab5c",
   "metadata": {},
   "source": [
    "### 3.Load & Process Images"
   ]
  },
  {
   "cell_type": "code",
   "execution_count": 19,
   "id": "7cee0a05",
   "metadata": {},
   "outputs": [
    {
     "name": "stdout",
     "output_type": "stream",
     "text": [
      "Total images loaded: 8\n"
     ]
    }
   ],
   "source": [
    "images, labels = [], []\n",
    "for label in CLASSES:\n",
    "    folder = os.path.join(DATASET_PATH, label)\n",
    "    for filename in os.listdir(folder):\n",
    "        if filename.lower().endswith(('.jpg', '.png', '.jpeg')):\n",
    "            img_path = os.path.join(folder, filename)\n",
    "            try:\n",
    "                img = load_img(img_path, target_size=(IMG_SIZE, IMG_SIZE))\n",
    "                img_array = img_to_array(img) / 255.0\n",
    "                images.append(img_array)\n",
    "                labels.append(label)\n",
    "            except Exception as e:\n",
    "                print(f\"Error loading {img_path}: {e}\")\n",
    "\n",
    "print(f\"Total images loaded: {len(images)}\")"
   ]
  },
  {
   "cell_type": "markdown",
   "id": "b3eb0329",
   "metadata": {},
   "source": [
    "### 4.Prepare Data for SVM"
   ]
  },
  {
   "cell_type": "code",
   "execution_count": 20,
   "id": "e4052388",
   "metadata": {},
   "outputs": [],
   "source": [
    "X = np.array(images).reshape(len(images), -1)\n",
    "y = LabelEncoder().fit_transform(labels)\n",
    "\n",
    "scaler = StandardScaler()\n",
    "X_scaled = scaler.fit_transform(X)\n",
    "\n",
    "X_train, X_test, y_train, y_test = train_test_split(\n",
    "    X_scaled, y, test_size=0.2, random_state=42, stratify=y\n",
    ")"
   ]
  },
  {
   "cell_type": "markdown",
   "id": "83a4f45b",
   "metadata": {},
   "source": [
    "### 5.Train the SVM Model"
   ]
  },
  {
   "cell_type": "code",
   "execution_count": 21,
   "id": "7dd8f06b",
   "metadata": {},
   "outputs": [],
   "source": [
    "model = SVC(kernel='linear', C=1.0)\n",
    "model.fit(X_train, y_train)\n",
    "\n",
    "y_pred = model.predict(X_test)"
   ]
  },
  {
   "cell_type": "markdown",
   "id": "831827b4",
   "metadata": {},
   "source": [
    "### 6.Evaluate and Plot"
   ]
  },
  {
   "cell_type": "code",
   "execution_count": 22,
   "id": "70bdef56",
   "metadata": {},
   "outputs": [
    {
     "name": "stdout",
     "output_type": "stream",
     "text": [
      "SVM Accuracy: 0.5\n",
      "\n",
      "Classification Report:\n",
      "              precision    recall  f1-score   support\n",
      "\n",
      "good_quality       0.00      0.00      0.00         1\n",
      " bad_quality       0.50      1.00      0.67         1\n",
      "\n",
      "    accuracy                           0.50         2\n",
      "   macro avg       0.25      0.50      0.33         2\n",
      "weighted avg       0.25      0.50      0.33         2\n",
      "\n"
     ]
    },
    {
     "name": "stderr",
     "output_type": "stream",
     "text": [
      "c:\\Users\\HP\\AppData\\Local\\Programs\\Python\\Python310\\lib\\site-packages\\sklearn\\metrics\\_classification.py:1706: UndefinedMetricWarning: Precision is ill-defined and being set to 0.0 in labels with no predicted samples. Use `zero_division` parameter to control this behavior.\n",
      "  _warn_prf(average, modifier, f\"{metric.capitalize()} is\", result.shape[0])\n",
      "c:\\Users\\HP\\AppData\\Local\\Programs\\Python\\Python310\\lib\\site-packages\\sklearn\\metrics\\_classification.py:1706: UndefinedMetricWarning: Precision is ill-defined and being set to 0.0 in labels with no predicted samples. Use `zero_division` parameter to control this behavior.\n",
      "  _warn_prf(average, modifier, f\"{metric.capitalize()} is\", result.shape[0])\n",
      "c:\\Users\\HP\\AppData\\Local\\Programs\\Python\\Python310\\lib\\site-packages\\sklearn\\metrics\\_classification.py:1706: UndefinedMetricWarning: Precision is ill-defined and being set to 0.0 in labels with no predicted samples. Use `zero_division` parameter to control this behavior.\n",
      "  _warn_prf(average, modifier, f\"{metric.capitalize()} is\", result.shape[0])\n"
     ]
    },
    {
     "data": {
      "image/png": "[encoded data removed]",
      "text/plain": [
       "<Figure size 640x480 with 2 Axes>"
      ]
     },
     "metadata": {},
     "output_type": "display_data"
    }
   ],
   "source": [
    "print(\"SVM Accuracy:\", accuracy_score(y_test, y_pred))\n",
    "print(\"\\nClassification Report:\")\n",
    "print(classification_report(y_test, y_pred, target_names=CLASSES))\n",
    "\n",
    "cm = confusion_matrix(y_test, y_pred)\n",
    "sns.heatmap(cm, annot=True, fmt='d', xticklabels=CLASSES, yticklabels=CLASSES, cmap=\"Blues\")\n",
    "plt.xlabel(\"Predicted\")\n",
    "plt.ylabel(\"Actual\")\n",
    "plt.title(\"Confusion Matrix\")\n",
    "plt.show()"
   ]
  },
  {
   "cell_type": "markdown",
   "id": "16136716",
   "metadata": {},
   "source": [
    "## ✅ Conclusion\n",
    "\n",
    "We built a basic machine learning model using SVM to classify **good** and **bad quality tomatoes** from images.\n",
    "\n",
    "- Resized and preprocessed the images\n",
    "- Converted them into a format the model could understand\n",
    "- Trained an SVM classifier to learn the patterns\n",
    "- Evaluated its performance with accuracy and a confusion matrix\n",
    "\n",
    "This project shows that with the right preparation, even simple models like SVM can give meaningful results in image classification tasks."
   ]
  }
 ],
 "metadata": {
  "kernelspec": {
   "display_name": "Python 3",
   "language": "python",
   "name": "python3"
  },
  "language_info": {
   "codemirror_mode": {
    "name": "ipython",
    "version": 3
   },
   "file_extension": ".py",
   "mimetype": "text/x-python",
   "name": "python",
   "nbconvert_exporter": "python",
   "pygments_lexer": "ipython3",
   "version": "3.10.9"
  }
 },
 "nbformat": 4,
 "nbformat_minor": 5
}
